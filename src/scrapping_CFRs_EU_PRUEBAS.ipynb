{
 "cells": [
  {
   "cell_type": "code",
   "execution_count": null,
   "metadata": {},
   "outputs": [],
   "source": [
    "from selenium import webdriver\n",
    "from selenium.webdriver.common.by import By\n",
    "from selenium.webdriver.common.keys import Keys\n",
    "from selenium.webdriver.support.ui import WebDriverWait\n",
    "from selenium.webdriver.support import expected_conditions as EC\n",
    "\n",
    "import pandas as pd"
   ]
  },
  {
   "cell_type": "code",
   "execution_count": null,
   "metadata": {},
   "outputs": [
    {
     "ename": "NoSuchWindowException",
     "evalue": "Message: no such window: target window already closed\nfrom unknown error: web view not found\n  (Session info: chrome=134.0.6998.177)\nStacktrace:\n\tGetHandleVerifier [0x00007FF6F59F4C25+3179557]\n\t(No symbol) [0x00007FF6F56588A0]\n\t(No symbol) [0x00007FF6F54E91CA]\n\t(No symbol) [0x00007FF6F54C1753]\n\t(No symbol) [0x00007FF6F556F83E]\n\t(No symbol) [0x00007FF6F558FBE2]\n\t(No symbol) [0x00007FF6F5567A03]\n\t(No symbol) [0x00007FF6F55306D0]\n\t(No symbol) [0x00007FF6F5531983]\n\tGetHandleVerifier [0x00007FF6F5A567CD+3579853]\n\tGetHandleVerifier [0x00007FF6F5A6D1D2+3672530]\n\tGetHandleVerifier [0x00007FF6F5A62153+3627347]\n\tGetHandleVerifier [0x00007FF6F57C092A+868650]\n\t(No symbol) [0x00007FF6F5662FFF]\n\t(No symbol) [0x00007FF6F565F4A4]\n\t(No symbol) [0x00007FF6F565F646]\n\t(No symbol) [0x00007FF6F564EAA9]\n\tBaseThreadInitThunk [0x00007FF8A1B2259D+29]\n\tRtlUserThreadStart [0x00007FF8A326AF38+40]\n",
     "output_type": "error",
     "traceback": [
      "\u001b[1;31m---------------------------------------------------------------------------\u001b[0m",
      "\u001b[1;31mNoSuchWindowException\u001b[0m                     Traceback (most recent call last)",
      "Cell \u001b[1;32mIn[2], line 58\u001b[0m\n\u001b[0;32m     56\u001b[0m \u001b[38;5;28;01mfor\u001b[39;00m row \u001b[38;5;129;01min\u001b[39;00m rows:\n\u001b[0;32m     57\u001b[0m     cells \u001b[38;5;241m=\u001b[39m row\u001b[38;5;241m.\u001b[39mfind_elements(By\u001b[38;5;241m.\u001b[39mTAG_NAME, \u001b[38;5;124m\"\u001b[39m\u001b[38;5;124mtd\u001b[39m\u001b[38;5;124m\"\u001b[39m)\n\u001b[1;32m---> 58\u001b[0m     row_data \u001b[38;5;241m=\u001b[39m [\u001b[43mcell\u001b[49m\u001b[38;5;241;43m.\u001b[39;49m\u001b[43mtext\u001b[49m\u001b[38;5;241m.\u001b[39mstrip() \u001b[38;5;28;01mfor\u001b[39;00m cell \u001b[38;5;129;01min\u001b[39;00m cells]  \u001b[38;5;66;03m# Solo tomar los primeros 3 campos\u001b[39;00m\n\u001b[0;32m     59\u001b[0m     data\u001b[38;5;241m.\u001b[39mappend(row_data)\n\u001b[0;32m     61\u001b[0m \u001b[38;5;66;03m# Intentar encontrar el botón \"Next\"\u001b[39;00m\n",
      "File \u001b[1;32mc:\\Users\\lucas\\AppData\\Local\\Programs\\Python\\Python312\\Lib\\site-packages\\selenium\\webdriver\\remote\\webelement.py:109\u001b[0m, in \u001b[0;36mWebElement.text\u001b[1;34m(self)\u001b[0m\n\u001b[0;32m     96\u001b[0m \u001b[38;5;129m@property\u001b[39m\n\u001b[0;32m     97\u001b[0m \u001b[38;5;28;01mdef\u001b[39;00m \u001b[38;5;21mtext\u001b[39m(\u001b[38;5;28mself\u001b[39m) \u001b[38;5;241m-\u001b[39m\u001b[38;5;241m>\u001b[39m \u001b[38;5;28mstr\u001b[39m:\n\u001b[0;32m     98\u001b[0m \u001b[38;5;250m    \u001b[39m\u001b[38;5;124;03m\"\"\"The text of the element.\u001b[39;00m\n\u001b[0;32m     99\u001b[0m \n\u001b[0;32m    100\u001b[0m \u001b[38;5;124;03m    Returns:\u001b[39;00m\n\u001b[1;32m   (...)\u001b[0m\n\u001b[0;32m    107\u001b[0m \u001b[38;5;124;03m    >>> print(element.text)\u001b[39;00m\n\u001b[0;32m    108\u001b[0m \u001b[38;5;124;03m    \"\"\"\u001b[39;00m\n\u001b[1;32m--> 109\u001b[0m     \u001b[38;5;28;01mreturn\u001b[39;00m \u001b[38;5;28;43mself\u001b[39;49m\u001b[38;5;241;43m.\u001b[39;49m\u001b[43m_execute\u001b[49m\u001b[43m(\u001b[49m\u001b[43mCommand\u001b[49m\u001b[38;5;241;43m.\u001b[39;49m\u001b[43mGET_ELEMENT_TEXT\u001b[49m\u001b[43m)\u001b[49m[\u001b[38;5;124m\"\u001b[39m\u001b[38;5;124mvalue\u001b[39m\u001b[38;5;124m\"\u001b[39m]\n",
      "File \u001b[1;32mc:\\Users\\lucas\\AppData\\Local\\Programs\\Python\\Python312\\Lib\\site-packages\\selenium\\webdriver\\remote\\webelement.py:572\u001b[0m, in \u001b[0;36mWebElement._execute\u001b[1;34m(self, command, params)\u001b[0m\n\u001b[0;32m    570\u001b[0m     params \u001b[38;5;241m=\u001b[39m {}\n\u001b[0;32m    571\u001b[0m params[\u001b[38;5;124m\"\u001b[39m\u001b[38;5;124mid\u001b[39m\u001b[38;5;124m\"\u001b[39m] \u001b[38;5;241m=\u001b[39m \u001b[38;5;28mself\u001b[39m\u001b[38;5;241m.\u001b[39m_id\n\u001b[1;32m--> 572\u001b[0m \u001b[38;5;28;01mreturn\u001b[39;00m \u001b[38;5;28;43mself\u001b[39;49m\u001b[38;5;241;43m.\u001b[39;49m\u001b[43m_parent\u001b[49m\u001b[38;5;241;43m.\u001b[39;49m\u001b[43mexecute\u001b[49m\u001b[43m(\u001b[49m\u001b[43mcommand\u001b[49m\u001b[43m,\u001b[49m\u001b[43m \u001b[49m\u001b[43mparams\u001b[49m\u001b[43m)\u001b[49m\n",
      "File \u001b[1;32mc:\\Users\\lucas\\AppData\\Local\\Programs\\Python\\Python312\\Lib\\site-packages\\selenium\\webdriver\\remote\\webdriver.py:429\u001b[0m, in \u001b[0;36mWebDriver.execute\u001b[1;34m(self, driver_command, params)\u001b[0m\n\u001b[0;32m    427\u001b[0m response \u001b[38;5;241m=\u001b[39m \u001b[38;5;28mself\u001b[39m\u001b[38;5;241m.\u001b[39mcommand_executor\u001b[38;5;241m.\u001b[39mexecute(driver_command, params)\n\u001b[0;32m    428\u001b[0m \u001b[38;5;28;01mif\u001b[39;00m response:\n\u001b[1;32m--> 429\u001b[0m     \u001b[38;5;28;43mself\u001b[39;49m\u001b[38;5;241;43m.\u001b[39;49m\u001b[43merror_handler\u001b[49m\u001b[38;5;241;43m.\u001b[39;49m\u001b[43mcheck_response\u001b[49m\u001b[43m(\u001b[49m\u001b[43mresponse\u001b[49m\u001b[43m)\u001b[49m\n\u001b[0;32m    430\u001b[0m     response[\u001b[38;5;124m\"\u001b[39m\u001b[38;5;124mvalue\u001b[39m\u001b[38;5;124m\"\u001b[39m] \u001b[38;5;241m=\u001b[39m \u001b[38;5;28mself\u001b[39m\u001b[38;5;241m.\u001b[39m_unwrap_value(response\u001b[38;5;241m.\u001b[39mget(\u001b[38;5;124m\"\u001b[39m\u001b[38;5;124mvalue\u001b[39m\u001b[38;5;124m\"\u001b[39m, \u001b[38;5;28;01mNone\u001b[39;00m))\n\u001b[0;32m    431\u001b[0m     \u001b[38;5;28;01mreturn\u001b[39;00m response\n",
      "File \u001b[1;32mc:\\Users\\lucas\\AppData\\Local\\Programs\\Python\\Python312\\Lib\\site-packages\\selenium\\webdriver\\remote\\errorhandler.py:232\u001b[0m, in \u001b[0;36mErrorHandler.check_response\u001b[1;34m(self, response)\u001b[0m\n\u001b[0;32m    230\u001b[0m         alert_text \u001b[38;5;241m=\u001b[39m value[\u001b[38;5;124m\"\u001b[39m\u001b[38;5;124malert\u001b[39m\u001b[38;5;124m\"\u001b[39m]\u001b[38;5;241m.\u001b[39mget(\u001b[38;5;124m\"\u001b[39m\u001b[38;5;124mtext\u001b[39m\u001b[38;5;124m\"\u001b[39m)\n\u001b[0;32m    231\u001b[0m     \u001b[38;5;28;01mraise\u001b[39;00m exception_class(message, screen, stacktrace, alert_text)  \u001b[38;5;66;03m# type: ignore[call-arg]  # mypy is not smart enough here\u001b[39;00m\n\u001b[1;32m--> 232\u001b[0m \u001b[38;5;28;01mraise\u001b[39;00m exception_class(message, screen, stacktrace)\n",
      "\u001b[1;31mNoSuchWindowException\u001b[0m: Message: no such window: target window already closed\nfrom unknown error: web view not found\n  (Session info: chrome=134.0.6998.177)\nStacktrace:\n\tGetHandleVerifier [0x00007FF6F59F4C25+3179557]\n\t(No symbol) [0x00007FF6F56588A0]\n\t(No symbol) [0x00007FF6F54E91CA]\n\t(No symbol) [0x00007FF6F54C1753]\n\t(No symbol) [0x00007FF6F556F83E]\n\t(No symbol) [0x00007FF6F558FBE2]\n\t(No symbol) [0x00007FF6F5567A03]\n\t(No symbol) [0x00007FF6F55306D0]\n\t(No symbol) [0x00007FF6F5531983]\n\tGetHandleVerifier [0x00007FF6F5A567CD+3579853]\n\tGetHandleVerifier [0x00007FF6F5A6D1D2+3672530]\n\tGetHandleVerifier [0x00007FF6F5A62153+3627347]\n\tGetHandleVerifier [0x00007FF6F57C092A+868650]\n\t(No symbol) [0x00007FF6F5662FFF]\n\t(No symbol) [0x00007FF6F565F4A4]\n\t(No symbol) [0x00007FF6F565F646]\n\t(No symbol) [0x00007FF6F564EAA9]\n\tBaseThreadInitThunk [0x00007FF8A1B2259D+29]\n\tRtlUserThreadStart [0x00007FF8A326AF38+40]\n"
     ]
    }
   ],
   "source": [
    "driver = webdriver.Chrome()\n",
    "driver.get(\"https://webgate.ec.europa.eu/fleet-europa/search_en\")\n",
    "\n",
    "wait = WebDriverWait(driver, 1)\n",
    "\n",
    "# Hacer clic en el botón \"EU\"\n",
    "eu_option = wait.until(EC.element_to_be_clickable((By.XPATH, \"//label[@for='countryType1']\")))\n",
    "eu_option.click()\n",
    "\n",
    "# Hacer click en \"All Vessels\"\n",
    "all_vessels_option = wait.until(EC.element_to_be_clickable((By.XPATH, \"//label[@for='period1']\")))\n",
    "all_vessels_option.click()\n",
    "\n",
    "# Hacer clic en el botón \"Search\"\n",
    "btn_search = wait.until(EC.element_to_be_clickable((By.XPATH, \"//button/span[text()='Search']\")))\n",
    "btn_search.click()\n",
    "\n",
    "\n",
    "#-----------------------------------------------------------------------------------------------------#\n",
    "\n",
    "# Esperar a que el selector de la página de resultados se muestre\n",
    "wait.until(EC.presence_of_element_located((By.CLASS_NAME, \"select2-selection--single\")))\n",
    "\n",
    "page_size_selector = driver.find_element(By.CLASS_NAME, \"select2-selection--single\")\n",
    "page_size_selector.click()\n",
    "\n",
    "# Esperar a que la lista con opciones sea visible\n",
    "wait.until(EC.presence_of_element_located((By.XPATH, \"//ul[@class='select2-results__options']\")))\n",
    "\n",
    "# Intentar hacer clic en la opción que contiene el texto \"100\"\n",
    "page_size_100 = wait.until(EC.element_to_be_clickable((By.XPATH, \"//li[contains(text(),'100')]\")))\n",
    "\n",
    "# Hacer clic en la opción \"100\"\n",
    "page_size_100.click()\n",
    "#-----------------------------------------------------------------------------------------------------#\n",
    "# Esperar a que la tabla cargue\n",
    "wait.until(EC.presence_of_element_located((By.CLASS_NAME, \"table-header-container\")))\n",
    "\n",
    "# Nº de resultados por página 100\n",
    "page_size_selector = driver.find_element(By.CLASS_NAME, \"select2-selection--single\")\n",
    "page_size_selector.click()\n",
    "\n",
    "# Extraer los nombres de las columnas \n",
    "column_headers = driver.find_elements(By.XPATH, \"//div[@class='table-header-container']/span\")\n",
    "column_names = [header.text.strip() for header in column_headers] \n",
    "\n",
    "# Contenido de las filas\n",
    "rows = driver.find_elements(By.XPATH, \"//table/tbody/tr\")\n",
    "\n",
    "data = []\n",
    "\n",
    "while True:\n",
    "    # Extraer filas de la tabla\n",
    "    rows = driver.find_elements(By.XPATH, \"//table/tbody/tr\")\n",
    "    \n",
    "    for row in rows:\n",
    "        cells = row.find_elements(By.TAG_NAME, \"td\")\n",
    "        row_data = [cell.text.strip() for cell in cells]  # Solo tomar los primeros 3 campos\n",
    "        data.append(row_data)\n",
    "\n",
    "    # Intentar encontrar el botón \"Next\"\n",
    "    try:\n",
    "        # Buscar el botón \"Next\" usando el atributo aria-label\n",
    "        next_button = wait.until(EC.element_to_be_clickable((By.XPATH, \"//a[@aria-label='Go to next page']\")))\n",
    "\n",
    "        # Desplazar hasta el botón \"Next\"\n",
    "        driver.execute_script(\"arguments[0].scrollIntoView(true);\", next_button)\n",
    "        \n",
    "        # Verificar si el botón \"Next\" está habilitado\n",
    "        if \"disabled\" not in next_button.get_attribute(\"class\"):  \n",
    "            # Hacer clic en el botón \"Next\"\n",
    "            next_button.click()\n",
    "            wait.until(EC.presence_of_element_located((By.TAG_NAME, \"table\")))  # Esperar a que la nueva página cargue\n",
    "        else:\n",
    "            break  # Si el botón está deshabilitado, salir del bucle\n",
    "    except:\n",
    "        break  # Si no hay botón \"Next\" o hubo un error, salir del bucle\n",
    "   \n",
    "\n",
    "# Crear DataFrame con todos los datos recopilados\n",
    "df = pd.DataFrame(data, columns=column_names)\n",
    "\n",
    "# Mostrar el DataFrame\n",
    "print(df)\n",
    "\n",
    "# Cerrar el driver\n",
    "driver.quit()"
   ]
  },
  {
   "cell_type": "code",
   "execution_count": null,
   "metadata": {},
   "outputs": [
    {
     "name": "stdout",
     "output_type": "stream",
     "text": [
      "<class 'pandas.core.frame.DataFrame'>\n",
      "RangeIndex: 25 entries, 0 to 24\n",
      "Data columns (total 3 columns):\n",
      " #   Column       Non-Null Count  Dtype \n",
      "---  ------       --------------  ----- \n",
      " 0   Flag         25 non-null     object\n",
      " 1   Vessel Type  25 non-null     object\n",
      " 2   CFR          25 non-null     object\n",
      "dtypes: object(3)\n",
      "memory usage: 732.0+ bytes\n"
     ]
    }
   ],
   "source": [
    "df.info()"
   ]
  },
  {
   "cell_type": "code",
   "execution_count": null,
   "metadata": {},
   "outputs": [],
   "source": []
  }
 ],
 "metadata": {
  "kernelspec": {
   "display_name": "Python 3",
   "language": "python",
   "name": "python3"
  },
  "language_info": {
   "codemirror_mode": {
    "name": "ipython",
    "version": 3
   },
   "file_extension": ".py",
   "mimetype": "text/x-python",
   "name": "python",
   "nbconvert_exporter": "python",
   "pygments_lexer": "ipython3",
   "version": "3.12.7"
  }
 },
 "nbformat": 4,
 "nbformat_minor": 2
}
